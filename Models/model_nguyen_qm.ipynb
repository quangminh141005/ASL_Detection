{
  "cells": [
    {
      "cell_type": "code",
      "execution_count": 2,
      "id": "c607a279-363a-4b17-8df2-b0965c960e95",
      "metadata": {
        "colab": {
          "base_uri": "https://localhost:8080/"
        },
        "id": "c607a279-363a-4b17-8df2-b0965c960e95",
        "outputId": "86a0a812-2f7e-4b5a-f7fc-01b949122862"
      },
      "outputs": [
        {
          "output_type": "stream",
          "name": "stdout",
          "text": [
            "Cloning into 'ASL_Detection'...\n",
            "remote: Enumerating objects: 2582, done.\u001b[K\n",
            "remote: Counting objects: 100% (2582/2582), done.\u001b[K\n",
            "remote: Compressing objects: 100% (2576/2576), done.\u001b[K\n",
            "remote: Total 2582 (delta 10), reused 2567 (delta 3), pack-reused 0 (from 0)\u001b[K\n",
            "Receiving objects: 100% (2582/2582), 27.97 MiB | 13.57 MiB/s, done.\n",
            "Resolving deltas: 100% (10/10), done.\n"
          ]
        }
      ],
      "source": [
        "!git clone https://github.com/quangminh141005/ASL_Detection.git"
      ]
    },
    {
      "cell_type": "code",
      "source": [
        "import cv2\n",
        "import numpy as np\n",
        "from tensorflow.keras.utils import to_categorical\n",
        "from sklearn.model_selection import train_test_split\n",
        "import os"
      ],
      "metadata": {
        "id": "bNTeXDG7do06"
      },
      "id": "bNTeXDG7do06",
      "execution_count": 1,
      "outputs": []
    },
    {
      "cell_type": "code",
      "source": [
        "DATASET_PATH = '/content/ASL_Detection/Data/asl_dataset'\n",
        "\n",
        "IMAGE_SIZE = 64\n",
        "\n",
        "X = []\n",
        "y = []\n",
        "\n",
        "label_map = {}\n",
        "label_counter = 0\n",
        "\n",
        "for folder_name in os.listdir(DATASET_PATH):\n",
        "  folder_path = os.path.join(DATASET_PATH, folder_name)\n",
        "  if os.path.isdir(folder_path):\n",
        "    if folder_name not in label_map:\n",
        "      label_map[folder_name] = label_counter\n",
        "      label_counter += 1\n",
        "    label = label_map[folder_name]\n",
        "\n",
        "    for img_file in os.listdir(folder_path):\n",
        "      img_path = os.path.join(folder_path, img_file)\n",
        "      try:\n",
        "        img = cv2.imread(img_path)\n",
        "        img = cv2.resize(img ,(IMAGE_SIZE, IMAGE_SIZE))\n",
        "        img = img/255.\n",
        "        X.append(img)\n",
        "        y.append(label)\n",
        "      except Exception as e:\n",
        "        print(\"Error loading file: \", e)\n",
        "\n",
        "X = np.array(X)\n",
        "y = np.array(y)\n",
        "\n",
        "y = to_categorical(y)\n",
        "\n",
        "X_train, X_test, y_train, y_test = train_test_split(X, y, test_size=0.2, random_state= 42)"
      ],
      "metadata": {
        "id": "spYqXmqqeZeY"
      },
      "id": "spYqXmqqeZeY",
      "execution_count": 3,
      "outputs": []
    },
    {
      "cell_type": "code",
      "source": [
        "import tensorflow as tf\n",
        "\n",
        "from tensorflow.keras import datasets, layers, models\n",
        "import matplotlib.pyplot as plt"
      ],
      "metadata": {
        "id": "bjGxvGdwelrF"
      },
      "id": "bjGxvGdwelrF",
      "execution_count": 4,
      "outputs": []
    },
    {
      "cell_type": "code",
      "source": [
        "ASL_model_advance = models.Sequential([\n",
        "    layers.Conv2D(filters=32, kernel_size=(3, 3), activation='relu', input_shape=(64, 64, 3)),\n",
        "    layers.BatchNormalization(),\n",
        "    layers.MaxPool2D(pool_size=(2, 2)),\n",
        "\n",
        "    layers.Conv2D(filters=64, kernel_size=(3, 3), activation='relu'),\n",
        "    layers.BatchNormalization(),\n",
        "    layers.MaxPooling2D(pool_size=(2, 2)),\n",
        "\n",
        "    layers.Conv2D(filters=128, kernel_size=(3, 3), activation='relu'),\n",
        "    layers.BatchNormalization(),\n",
        "    layers.MaxPooling2D(pool_size=(2, 2)),\n",
        "\n",
        "    layers.Flatten(),\n",
        "    layers.Dense(units=128, activation='relu'),\n",
        "    layers.Dropout(0.5),\n",
        "    layers.Dense(units=36, activation='softmax')\n",
        "])"
      ],
      "metadata": {
        "colab": {
          "base_uri": "https://localhost:8080/"
        },
        "id": "aoGRlEAQeogg",
        "outputId": "97685808-e4fd-49c7-92a5-bb19f5265d6b"
      },
      "id": "aoGRlEAQeogg",
      "execution_count": 5,
      "outputs": [
        {
          "output_type": "stream",
          "name": "stderr",
          "text": [
            "/usr/local/lib/python3.11/dist-packages/keras/src/layers/convolutional/base_conv.py:113: UserWarning: Do not pass an `input_shape`/`input_dim` argument to a layer. When using Sequential models, prefer using an `Input(shape)` object as the first layer in the model instead.\n",
            "  super().__init__(activity_regularizer=activity_regularizer, **kwargs)\n"
          ]
        }
      ]
    },
    {
      "cell_type": "code",
      "source": [
        "ASL_model_advance.compile(optimizer='SGD',\n",
        "                          loss='categorical_crossentropy',\n",
        "                          metrics=['accuracy'])\n",
        "\n",
        "ASL_history = ASL_model_advance.fit(X_train, y_train, epochs=20,\n",
        "                        validation_data=(X_test, y_test))"
      ],
      "metadata": {
        "colab": {
          "base_uri": "https://localhost:8080/"
        },
        "id": "ahrSAkd2er9A",
        "outputId": "f19f9a8d-7b1b-488c-dcea-b03f0946ddc0"
      },
      "id": "ahrSAkd2er9A",
      "execution_count": 6,
      "outputs": [
        {
          "output_type": "stream",
          "name": "stdout",
          "text": [
            "Epoch 1/20\n",
            "\u001b[1m63/63\u001b[0m \u001b[32m━━━━━━━━━━━━━━━━━━━━\u001b[0m\u001b[37m\u001b[0m \u001b[1m11s\u001b[0m 82ms/step - accuracy: 0.2082 - loss: 3.3082 - val_accuracy: 0.1213 - val_loss: 3.4514\n",
            "Epoch 2/20\n",
            "\u001b[1m63/63\u001b[0m \u001b[32m━━━━━━━━━━━━━━━━━━━━\u001b[0m\u001b[37m\u001b[0m \u001b[1m1s\u001b[0m 8ms/step - accuracy: 0.6298 - loss: 1.2262 - val_accuracy: 0.1491 - val_loss: 3.2538\n",
            "Epoch 3/20\n",
            "\u001b[1m63/63\u001b[0m \u001b[32m━━━━━━━━━━━━━━━━━━━━\u001b[0m\u001b[37m\u001b[0m \u001b[1m1s\u001b[0m 8ms/step - accuracy: 0.7867 - loss: 0.7022 - val_accuracy: 0.2087 - val_loss: 2.9437\n",
            "Epoch 4/20\n",
            "\u001b[1m63/63\u001b[0m \u001b[32m━━━━━━━━━━━━━━━━━━━━\u001b[0m\u001b[37m\u001b[0m \u001b[1m1s\u001b[0m 9ms/step - accuracy: 0.8433 - loss: 0.5078 - val_accuracy: 0.4374 - val_loss: 2.3043\n",
            "Epoch 5/20\n",
            "\u001b[1m63/63\u001b[0m \u001b[32m━━━━━━━━━━━━━━━━━━━━\u001b[0m\u001b[37m\u001b[0m \u001b[1m1s\u001b[0m 10ms/step - accuracy: 0.8685 - loss: 0.4109 - val_accuracy: 0.6998 - val_loss: 1.4517\n",
            "Epoch 6/20\n",
            "\u001b[1m63/63\u001b[0m \u001b[32m━━━━━━━━━━━━━━━━━━━━\u001b[0m\u001b[37m\u001b[0m \u001b[1m1s\u001b[0m 8ms/step - accuracy: 0.9008 - loss: 0.2996 - val_accuracy: 0.8807 - val_loss: 0.8509\n",
            "Epoch 7/20\n",
            "\u001b[1m63/63\u001b[0m \u001b[32m━━━━━━━━━━━━━━━━━━━━\u001b[0m\u001b[37m\u001b[0m \u001b[1m1s\u001b[0m 8ms/step - accuracy: 0.9224 - loss: 0.2547 - val_accuracy: 0.9264 - val_loss: 0.4329\n",
            "Epoch 8/20\n",
            "\u001b[1m63/63\u001b[0m \u001b[32m━━━━━━━━━━━━━━━━━━━━\u001b[0m\u001b[37m\u001b[0m \u001b[1m1s\u001b[0m 8ms/step - accuracy: 0.9344 - loss: 0.2177 - val_accuracy: 0.9324 - val_loss: 0.2628\n",
            "Epoch 9/20\n",
            "\u001b[1m63/63\u001b[0m \u001b[32m━━━━━━━━━━━━━━━━━━━━\u001b[0m\u001b[37m\u001b[0m \u001b[1m1s\u001b[0m 8ms/step - accuracy: 0.9446 - loss: 0.1897 - val_accuracy: 0.9384 - val_loss: 0.2057\n",
            "Epoch 10/20\n",
            "\u001b[1m63/63\u001b[0m \u001b[32m━━━━━━━━━━━━━━━━━━━━\u001b[0m\u001b[37m\u001b[0m \u001b[1m1s\u001b[0m 8ms/step - accuracy: 0.9508 - loss: 0.1513 - val_accuracy: 0.9523 - val_loss: 0.1674\n",
            "Epoch 11/20\n",
            "\u001b[1m63/63\u001b[0m \u001b[32m━━━━━━━━━━━━━━━━━━━━\u001b[0m\u001b[37m\u001b[0m \u001b[1m1s\u001b[0m 8ms/step - accuracy: 0.9593 - loss: 0.1376 - val_accuracy: 0.9503 - val_loss: 0.1379\n",
            "Epoch 12/20\n",
            "\u001b[1m63/63\u001b[0m \u001b[32m━━━━━━━━━━━━━━━━━━━━\u001b[0m\u001b[37m\u001b[0m \u001b[1m0s\u001b[0m 8ms/step - accuracy: 0.9698 - loss: 0.1129 - val_accuracy: 0.9602 - val_loss: 0.1186\n",
            "Epoch 13/20\n",
            "\u001b[1m63/63\u001b[0m \u001b[32m━━━━━━━━━━━━━━━━━━━━\u001b[0m\u001b[37m\u001b[0m \u001b[1m0s\u001b[0m 7ms/step - accuracy: 0.9787 - loss: 0.0952 - val_accuracy: 0.9503 - val_loss: 0.1299\n",
            "Epoch 14/20\n",
            "\u001b[1m63/63\u001b[0m \u001b[32m━━━━━━━━━━━━━━━━━━━━\u001b[0m\u001b[37m\u001b[0m \u001b[1m1s\u001b[0m 8ms/step - accuracy: 0.9730 - loss: 0.0978 - val_accuracy: 0.9622 - val_loss: 0.1024\n",
            "Epoch 15/20\n",
            "\u001b[1m63/63\u001b[0m \u001b[32m━━━━━━━━━━━━━━━━━━━━\u001b[0m\u001b[37m\u001b[0m \u001b[1m1s\u001b[0m 9ms/step - accuracy: 0.9736 - loss: 0.1013 - val_accuracy: 0.9662 - val_loss: 0.1077\n",
            "Epoch 16/20\n",
            "\u001b[1m63/63\u001b[0m \u001b[32m━━━━━━━━━━━━━━━━━━━━\u001b[0m\u001b[37m\u001b[0m \u001b[1m1s\u001b[0m 8ms/step - accuracy: 0.9729 - loss: 0.0967 - val_accuracy: 0.9602 - val_loss: 0.0940\n",
            "Epoch 17/20\n",
            "\u001b[1m63/63\u001b[0m \u001b[32m━━━━━━━━━━━━━━━━━━━━\u001b[0m\u001b[37m\u001b[0m \u001b[1m1s\u001b[0m 8ms/step - accuracy: 0.9816 - loss: 0.0728 - val_accuracy: 0.9682 - val_loss: 0.0843\n",
            "Epoch 18/20\n",
            "\u001b[1m63/63\u001b[0m \u001b[32m━━━━━━━━━━━━━━━━━━━━\u001b[0m\u001b[37m\u001b[0m \u001b[1m1s\u001b[0m 8ms/step - accuracy: 0.9818 - loss: 0.0677 - val_accuracy: 0.9622 - val_loss: 0.1038\n",
            "Epoch 19/20\n",
            "\u001b[1m63/63\u001b[0m \u001b[32m━━━━━━━━━━━━━━━━━━━━\u001b[0m\u001b[37m\u001b[0m \u001b[1m1s\u001b[0m 8ms/step - accuracy: 0.9788 - loss: 0.0805 - val_accuracy: 0.9662 - val_loss: 0.0933\n",
            "Epoch 20/20\n",
            "\u001b[1m63/63\u001b[0m \u001b[32m━━━━━━━━━━━━━━━━━━━━\u001b[0m\u001b[37m\u001b[0m \u001b[1m0s\u001b[0m 8ms/step - accuracy: 0.9881 - loss: 0.0565 - val_accuracy: 0.9722 - val_loss: 0.0821\n"
          ]
        }
      ]
    },
    {
      "cell_type": "code",
      "source": [
        "fig, axs = plt.subplots(1, 2, figsize=(12, 4))\n",
        "\n",
        "# Plot first graph\n",
        "axs[0].plot(ASL_history.history['accuracy'], label='accuracy')\n",
        "axs[0].plot(ASL_history.history['val_accuracy'], label='val_accuracy')\n",
        "axs[0].set_xlabel('Epochs')\n",
        "axs[0].set_ylabel('Accuracy')\n",
        "axs[0].legend(loc='lower right')\n",
        "axs[0].set_title('Accuracy')\n",
        "\n",
        "axs[1].plot(ASL_history.history['loss'], label='loss')\n",
        "axs[1].plot(ASL_history.history['val_loss'], label='val_loss')\n",
        "axs[1].set_xlabel('Epochs')\n",
        "axs[1].set_ylabel('Loss')\n",
        "axs[1].legend(loc='upper right')\n",
        "axs[1].set_title('Loss')\n",
        "\n",
        "plt.tight_layout()\n",
        "plt.show()"
      ],
      "metadata": {
        "colab": {
          "base_uri": "https://localhost:8080/",
          "height": 223
        },
        "id": "trkmv4Pheut2",
        "outputId": "8c751bb2-b778-4e6f-98cd-3d98a416e879"
      },
      "id": "trkmv4Pheut2",
      "execution_count": 9,
      "outputs": [
        {
          "output_type": "display_data",
          "data": {
            "text/plain": [
              "<Figure size 1200x400 with 2 Axes>"
            ],
            "image/png": "[encoded data removed]"
          },
          "metadata": {}
        }
      ]
    },
    {
      "cell_type": "code",
      "source": [
        "metrics = ASL_history.history\n",
        "final_metrics = {key: values[-1] for key, values in metrics.items()}\n",
        "\n",
        "print(final_metrics)"
      ],
      "metadata": {
        "colab": {
          "base_uri": "https://localhost:8080/"
        },
        "id": "_JrXzEaoftQy",
        "outputId": "973572db-0db3-4afe-fc04-5ddb0777484c"
      },
      "id": "_JrXzEaoftQy",
      "execution_count": 11,
      "outputs": [
        {
          "output_type": "stream",
          "name": "stdout",
          "text": [
            "{'accuracy': 0.9845924377441406, 'loss': 0.058474067598581314, 'val_accuracy': 0.9721670150756836, 'val_loss': 0.08207602798938751}\n"
          ]
        }
      ]
    },
    {
      "cell_type": "code",
      "source": [
        "# Save metrics value to JSON file\n",
        "import json\n",
        "from pathlib import Path\n",
        "\n",
        "final_metrics[\"model_name\"] = \"nguyen quang minh's model\"\n",
        "\n",
        "results_path = Path(\"/content/ASL_Detection/Results\")/\"nqm_model.json\"\n",
        "results_path.parent.mkdir(exist_ok=True)\n",
        "\n",
        "with open(results_path, \"w\") as f:\n",
        "  json.dump(final_metrics, f, indent=4)\n",
        "\n",
        "print(f\"Saved results to {results_path}\")\n"
      ],
      "metadata": {
        "colab": {
          "base_uri": "https://localhost:8080/"
        },
        "id": "cKyj-PW_ftOY",
        "outputId": "1593ad86-ae98-4a16-f86a-3a4a93986f91"
      },
      "id": "cKyj-PW_ftOY",
      "execution_count": 12,
      "outputs": [
        {
          "output_type": "stream",
          "name": "stdout",
          "text": [
            "Saved results to /content/ASL_Detection/Results/nqm_model.json\n"
          ]
        }
      ]
    },
    {
      "cell_type": "code",
      "source": [
        "git config --global user.email \"minhnq.23bi14288@usth.edu.vn\"\n",
        "  git config --global user.name \"quangminh141005\""
      ],
      "metadata": {
        "id": "iZmA4acdftKe"
      },
      "id": "iZmA4acdftKe",
      "execution_count": null,
      "outputs": []
    },
    {
      "cell_type": "code",
      "source": [],
      "metadata": {
        "id": "Rs4VtxphftIK"
      },
      "id": "Rs4VtxphftIK",
      "execution_count": null,
      "outputs": []
    },
    {
      "cell_type": "code",
      "source": [],
      "metadata": {
        "id": "xkyXMLO2ftFs"
      },
      "id": "xkyXMLO2ftFs",
      "execution_count": null,
      "outputs": []
    },
    {
      "cell_type": "code",
      "source": [],
      "metadata": {
        "id": "y6bnvnI-ftAg"
      },
      "id": "y6bnvnI-ftAg",
      "execution_count": null,
      "outputs": []
    },
    {
      "cell_type": "code",
      "source": [],
      "metadata": {
        "id": "5UVq1I9_fs-K"
      },
      "id": "5UVq1I9_fs-K",
      "execution_count": null,
      "outputs": []
    }
  ],
  "metadata": {
    "kernelspec": {
      "display_name": "",
      "name": ""
    },
    "language_info": {
      "name": ""
    },
    "colab": {
      "provenance": [],
      "gpuType": "T4"
    },
    "accelerator": "GPU"
  },
  "nbformat": 4,
  "nbformat_minor": 5
}