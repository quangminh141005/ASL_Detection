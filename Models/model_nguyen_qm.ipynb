{
  "cells": [
    {
      "cell_type": "markdown",
      "metadata": {
        "id": "view-in-github",
        "colab_type": "text"
      },
      "source": [
        "<a href=\"https://colab.research.google.com/github/quangminh141005/ASL_Detection/blob/model-nguyen-qm/Models/model_nguyen_qm.ipynb\" target=\"_parent\"><img src=\"https://colab.research.google.com/assets/colab-badge.svg\" alt=\"Open In Colab\"/></a>"
      ]
    },
    {
      "cell_type": "code",
      "execution_count": null,
      "id": "c607a279-363a-4b17-8df2-b0965c960e95",
      "metadata": {
        "id": "c607a279-363a-4b17-8df2-b0965c960e95"
      },
      "outputs": [],
      "source": [
        "print(\"qm dep zai\")"
      ]
    }
  ],
  "metadata": {
    "kernelspec": {
      "display_name": "",
      "name": ""
    },
    "language_info": {
      "name": ""
    },
    "colab": {
      "provenance": [],
      "include_colab_link": true
    }
  },
  "nbformat": 4,
  "nbformat_minor": 5
}