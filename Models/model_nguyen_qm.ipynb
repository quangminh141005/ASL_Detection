{
 "cells": [
  {
   "cell_type": "code",
   "execution_count": null,
   "id": "c607a279-363a-4b17-8df2-b0965c960e95",
   "metadata": {},
   "outputs": [],
   "source": []
  }
 ],
 "metadata": {
  "kernelspec": {
   "display_name": "",
   "name": ""
  },
  "language_info": {
   "name": ""
  }
 },
 "nbformat": 4,
 "nbformat_minor": 5
}
